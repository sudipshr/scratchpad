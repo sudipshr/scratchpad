{
 "cells": [
  {
   "cell_type": "code",
   "execution_count": 1,
   "metadata": {},
   "outputs": [
    {
     "name": "stdout",
     "output_type": "stream",
     "text": [
      "Collecting untangle\n",
      "  Downloading untangle-1.1.1.tar.gz (3.1 kB)\n",
      "Installing collected packages: untangle\n",
      "    Running setup.py install for untangle: started\n",
      "    Running setup.py install for untangle: finished with status 'done'\n",
      "Successfully installed untangle-1.1.1\n"
     ]
    }
   ],
   "source": [
    "#Parsing nested xml\n",
    "\n",
    "!pip install untangle"
   ]
  },
  {
   "cell_type": "code",
   "execution_count": 6,
   "metadata": {},
   "outputs": [],
   "source": [
    "import sys\n",
    "#reload(sys) # just to be sure\n",
    "#sys.setdefaultencoding('utf-8')\n",
    "import untangle"
   ]
  },
  {
   "cell_type": "code",
   "execution_count": 19,
   "metadata": {},
   "outputs": [
    {
     "name": "stdout",
     "output_type": "stream",
     "text": [
      "<_io.TextIOWrapper name='sample.xml' mode='r' encoding='cp1252'>\n"
     ]
    }
   ],
   "source": [
    "#untangle way\n",
    "file = open(\"sample.xml\",\"r\")  \n",
    "print(file)\n",
    "\n",
    "xml = untangle.parse(file.read(), feature_external_ges=False)"
   ]
  },
  {
   "cell_type": "code",
   "execution_count": 15,
   "metadata": {},
   "outputs": [
    {
     "data": {
      "text/plain": [
       "Element(name = None, attributes = None, cdata = )"
      ]
     },
     "execution_count": 15,
     "metadata": {},
     "output_type": "execute_result"
    }
   ],
   "source": [
    "xml"
   ]
  },
  {
   "cell_type": "code",
   "execution_count": 32,
   "metadata": {},
   "outputs": [
    {
     "data": {
      "text/plain": [
       "Element(name = courseId, attributes = {}, cdata = 123)"
      ]
     },
     "execution_count": 32,
     "metadata": {},
     "output_type": "execute_result"
    }
   ],
   "source": [
    "xml.Student.Enrollments.Enrollment[0].Course.courseId"
   ]
  },
  {
   "cell_type": "code",
   "execution_count": 38,
   "metadata": {},
   "outputs": [
    {
     "data": {
      "text/plain": [
       "list"
      ]
     },
     "execution_count": 38,
     "metadata": {},
     "output_type": "execute_result"
    }
   ],
   "source": [
    "type(xml.Student.Enrollments.Enrollment)"
   ]
  },
  {
   "cell_type": "code",
   "execution_count": 39,
   "metadata": {},
   "outputs": [
    {
     "data": {
      "text/plain": [
       "4"
      ]
     },
     "execution_count": 39,
     "metadata": {},
     "output_type": "execute_result"
    }
   ],
   "source": [
    "len(xml.Student.Enrollments.Enrollment)"
   ]
  },
  {
   "cell_type": "code",
   "execution_count": 42,
   "metadata": {},
   "outputs": [
    {
     "data": {
      "text/plain": [
       "{'_name': 'Course',\n",
       " '_attributes': {},\n",
       " 'children': [Element(name = courseId, attributes = {}, cdata = 123),\n",
       "  Element(name = term, attributes = {}, cdata = Fall2020),\n",
       "  Element(name = description, attributes = {}, cdata = xyz 101)],\n",
       " 'is_root': False,\n",
       " 'cdata': '\\n                \\n                \\n                \\n            ',\n",
       " 'courseId': Element(name = courseId, attributes = {}, cdata = 123)}"
      ]
     },
     "execution_count": 42,
     "metadata": {},
     "output_type": "execute_result"
    }
   ],
   "source": [
    "vars(xml.Student.Enrollments.Enrollment[0].Course)"
   ]
  },
  {
   "cell_type": "code",
   "execution_count": 43,
   "metadata": {},
   "outputs": [
    {
     "data": {
      "text/plain": [
       "{'_name': None,\n",
       " '_attributes': None,\n",
       " 'children': [Element(name = Student, attributes = {}, cdata = \n",
       "      \n",
       "      \n",
       "      \n",
       "      \n",
       "      \n",
       "  )],\n",
       " 'is_root': True,\n",
       " 'cdata': '',\n",
       " 'Student': Element(name = Student, attributes = {}, cdata = \n",
       "     \n",
       "     \n",
       "     \n",
       "     \n",
       "     \n",
       " )}"
      ]
     },
     "execution_count": 43,
     "metadata": {},
     "output_type": "execute_result"
    }
   ],
   "source": [
    "vars(xml)"
   ]
  },
  {
   "cell_type": "code",
   "execution_count": 45,
   "metadata": {},
   "outputs": [
    {
     "name": "stdout",
     "output_type": "stream",
     "text": [
      "Collecting xmldataset\n",
      "  Downloading xmldataset-1.0.1.tar.gz (13 kB)\n",
      "Installing collected packages: xmldataset\n",
      "    Running setup.py install for xmldataset: started\n",
      "    Running setup.py install for xmldataset: finished with status 'done'\n",
      "Successfully installed xmldataset-1.0.1\n"
     ]
    }
   ],
   "source": [
    "#using xmldataset\n",
    "#https://xmldataset.readthedocs.io/en/latest/quickstart.html#example-11-using-xmldataset-as-an-input-to-pandas\n",
    "#!pip install xmldataset"
   ]
  },
  {
   "cell_type": "code",
   "execution_count": 46,
   "metadata": {},
   "outputs": [],
   "source": [
    "import xmldataset\n",
    "import pprint\n",
    "\n",
    "# Setup Pretty Printing\n",
    "ppsetup = pprint.PrettyPrinter(indent=4)\n",
    "pp = ppsetup.pprint"
   ]
  },
  {
   "cell_type": "code",
   "execution_count": 65,
   "metadata": {},
   "outputs": [],
   "source": [
    "profile=\"\"\"\n",
    "Student\n",
    "    Address\n",
    "        Enrollments\n",
    "            Enrollment\n",
    "                Course\n",
    "                    courseId = dataset:mypddataset\"\"\"\n",
    "profile=\"\"\"\n",
    "Student\n",
    "    id = external_dataset:student_info\n",
    "    Address\n",
    "        street = external_dataset:address_info\n",
    "    Enrollments\n",
    "        Enrollment\n",
    "            Course\n",
    "                courseId = dataset:mydataset\n",
    "                __EXTERNAL_VALUE__ = student_info:id:mydataset address_info:street:mydataset\"\"\""
   ]
  },
  {
   "cell_type": "code",
   "execution_count": 66,
   "metadata": {},
   "outputs": [
    {
     "name": "stdout",
     "output_type": "stream",
     "text": [
      "{   'mydataset': [   {'courseId': '123', 'id': '1234', 'street': '123 Main St'},\n",
      "                     {'courseId': '126', 'id': '1234', 'street': '123 Main St'},\n",
      "                     {'courseId': '124', 'id': '1234', 'street': '123 Main St'},\n",
      "                     {   'courseId': '125',\n",
      "                         'id': '1234',\n",
      "                         'street': '123 Main St'}]}\n"
     ]
    }
   ],
   "source": [
    "output = xmldataset.parse_using_profile(open(\"sample.xml\",\"r\").read(),profile)\n",
    "pp(output)"
   ]
  },
  {
   "cell_type": "code",
   "execution_count": null,
   "metadata": {},
   "outputs": [],
   "source": [
    "#using xml tree\n",
    "#https://towardsdatascience.com/converting-multi-layered-xml-files-to-dataframes-in-python-using-xmltree-a13f9b043b48\n",
    "#https://medium.com/@robertopreste/from-xml-to-pandas-dataframes-9292980b1c1c"
   ]
  }
 ],
 "metadata": {
  "kernelspec": {
   "display_name": "Python 3",
   "language": "python",
   "name": "python3"
  },
  "language_info": {
   "codemirror_mode": {
    "name": "ipython",
    "version": 3
   },
   "file_extension": ".py",
   "mimetype": "text/x-python",
   "name": "python",
   "nbconvert_exporter": "python",
   "pygments_lexer": "ipython3",
   "version": "3.6.2"
  }
 },
 "nbformat": 4,
 "nbformat_minor": 4
}
